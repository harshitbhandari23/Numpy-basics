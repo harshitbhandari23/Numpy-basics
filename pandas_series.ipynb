{
  "cells": [
    {
      "cell_type": "markdown",
      "metadata": {
        "id": "view-in-github",
        "colab_type": "text"
      },
      "source": [
        "<a href=\"https://colab.research.google.com/github/harshitbhandari23/Numpy-basics/blob/main/pandas_series.ipynb\" target=\"_parent\"><img src=\"https://colab.research.google.com/assets/colab-badge.svg\" alt=\"Open In Colab\"/></a>"
      ]
    },
    {
      "cell_type": "code",
      "execution_count": null,
      "id": "99f14779",
      "metadata": {
        "id": "99f14779",
        "outputId": "2a687f3e-64f6-4130-9628-ef7661781d1c"
      },
      "outputs": [
        {
          "data": {
            "text/plain": [
              "0    1\n",
              "1    2\n",
              "2    3\n",
              "3    4\n",
              "dtype: int64"
            ]
          },
          "execution_count": 2,
          "metadata": {},
          "output_type": "execute_result"
        }
      ],
      "source": [
        "import pandas as pd\n",
        "import numpy as np\n",
        "lst=[1,2,3,4]\n",
        "pd.Series(lst)\n",
        "\n"
      ]
    },
    {
      "cell_type": "markdown",
      "id": "b8126e07",
      "metadata": {
        "id": "b8126e07"
      },
      "source": [
        "# using numpy array"
      ]
    },
    {
      "cell_type": "code",
      "execution_count": null,
      "id": "214b73d2",
      "metadata": {
        "id": "214b73d2",
        "outputId": "41a83d00-eb3c-4bbc-cbc2-4c613c46a7e7"
      },
      "outputs": [
        {
          "data": {
            "text/plain": [
              "0    1\n",
              "1    2\n",
              "2    3\n",
              "3    4\n",
              "dtype: int64"
            ]
          },
          "execution_count": 4,
          "metadata": {},
          "output_type": "execute_result"
        }
      ],
      "source": [
        "a=np.array([1,2,3,4])\n",
        "pd.Series(a)\n"
      ]
    },
    {
      "cell_type": "markdown",
      "id": "3b7761db",
      "metadata": {
        "id": "3b7761db"
      },
      "source": [
        "# giving own index"
      ]
    },
    {
      "cell_type": "code",
      "execution_count": null,
      "id": "6bfde453",
      "metadata": {
        "id": "6bfde453",
        "outputId": "92e06e22-7be8-45ab-8107-1f2180947ea3"
      },
      "outputs": [
        {
          "data": {
            "text/plain": [
              "first     sanchit\n",
              "second    harshit\n",
              "third     sarthak\n",
              "dtype: object"
            ]
          },
          "execution_count": 6,
          "metadata": {},
          "output_type": "execute_result"
        }
      ],
      "source": [
        "pd.Series(data=[\"sanchit\",\"harshit\",\"sarthak\"],index=[\"first\",\"second\",\"third\"])"
      ]
    },
    {
      "cell_type": "code",
      "execution_count": null,
      "id": "4040c9d5",
      "metadata": {
        "id": "4040c9d5",
        "outputId": "4517b568-acae-4e80-e550-e67c72d1b5d0"
      },
      "outputs": [
        {
          "data": {
            "text/plain": [
              "day1     4000\n",
              "day2     1200\n",
              "day3    45000\n",
              "dtype: int64"
            ]
          },
          "execution_count": 7,
          "metadata": {},
          "output_type": "execute_result"
        }
      ],
      "source": [
        "steps={\"day1\":4000,\"day2\":1200,\"day3\":45000}\n",
        "pd.Series(steps)"
      ]
    },
    {
      "cell_type": "markdown",
      "id": "7edfa261",
      "metadata": {
        "id": "7edfa261"
      },
      "source": [
        "# using repeat function"
      ]
    },
    {
      "cell_type": "code",
      "execution_count": null,
      "id": "307866df",
      "metadata": {
        "id": "307866df",
        "outputId": "3d99b9dc-fd5f-4d2c-c74e-9ba116e61f73"
      },
      "outputs": [
        {
          "data": {
            "text/plain": [
              "0    5\n",
              "0    5\n",
              "0    5\n",
              "dtype: int64"
            ]
          },
          "execution_count": 8,
          "metadata": {},
          "output_type": "execute_result"
        }
      ],
      "source": [
        "pd.Series(5).repeat(3)"
      ]
    },
    {
      "cell_type": "code",
      "execution_count": null,
      "id": "ae6d20cc",
      "metadata": {
        "id": "ae6d20cc",
        "outputId": "cf2a9b96-86b7-46f5-f38c-a7815e5d14bf"
      },
      "outputs": [
        {
          "data": {
            "text/plain": [
              "0    5\n",
              "1    5\n",
              "2    5\n",
              "dtype: int64"
            ]
          },
          "execution_count": 10,
          "metadata": {},
          "output_type": "execute_result"
        }
      ],
      "source": [
        "pd.Series(5).repeat(3).reset_index(drop=True)"
      ]
    },
    {
      "cell_type": "code",
      "execution_count": null,
      "id": "1570a79d",
      "metadata": {
        "id": "1570a79d",
        "outputId": "e7d8c3d0-4f4f-4d74-bcb2-04bc27d367c5"
      },
      "outputs": [
        {
          "data": {
            "text/plain": [
              "0    1\n",
              "1    2\n",
              "2    2\n",
              "3    2\n",
              "4    2\n",
              "5    2\n",
              "dtype: int64"
            ]
          },
          "execution_count": 12,
          "metadata": {},
          "output_type": "execute_result"
        }
      ],
      "source": [
        "pd.Series([1,2]).repeat([1,5])"
      ]
    },
    {
      "cell_type": "markdown",
      "id": "2897e069",
      "metadata": {
        "id": "2897e069"
      },
      "source": [
        "# acessing elements of a series"
      ]
    },
    {
      "cell_type": "code",
      "execution_count": null,
      "id": "494d5b12",
      "metadata": {
        "id": "494d5b12",
        "outputId": "88440c03-0385-4e0d-fb94-f2b8e061d147"
      },
      "outputs": [
        {
          "data": {
            "text/plain": [
              "0    10\n",
              "1    10\n",
              "2    10\n",
              "3    10\n",
              "4    10\n",
              "5    20\n",
              "6    20\n",
              "dtype: int64"
            ]
          },
          "execution_count": 17,
          "metadata": {},
          "output_type": "execute_result"
        }
      ],
      "source": [
        "x=pd.Series([10,20]).repeat([5,2]).reset_index(drop=True)\n",
        "x\n"
      ]
    },
    {
      "cell_type": "code",
      "execution_count": null,
      "id": "73791c17",
      "metadata": {
        "id": "73791c17",
        "outputId": "31c186b4-fbc5-4cef-c3a3-e4bf724f55ac"
      },
      "outputs": [
        {
          "data": {
            "text/plain": [
              "np.int64(20)"
            ]
          },
          "execution_count": 18,
          "metadata": {},
          "output_type": "execute_result"
        }
      ],
      "source": [
        "x[6]"
      ]
    },
    {
      "cell_type": "code",
      "execution_count": null,
      "id": "1075312d",
      "metadata": {
        "id": "1075312d",
        "outputId": "3fbcf69a-ed00-4085-af0d-fd1d68ca8660"
      },
      "outputs": [
        {
          "data": {
            "text/plain": [
              "0    10\n",
              "1    10\n",
              "2    10\n",
              "3    10\n",
              "4    10\n",
              "dtype: int64"
            ]
          },
          "execution_count": 21,
          "metadata": {},
          "output_type": "execute_result"
        }
      ],
      "source": [
        "x[0:5]"
      ]
    },
    {
      "cell_type": "code",
      "execution_count": null,
      "id": "ff1ec3f5",
      "metadata": {
        "id": "ff1ec3f5",
        "outputId": "1b4a65f2-b783-4ef2-e608-9a058372f848"
      },
      "outputs": [
        {
          "data": {
            "text/plain": [
              "2    10\n",
              "3    10\n",
              "4    10\n",
              "dtype: int64"
            ]
          },
          "execution_count": 23,
          "metadata": {},
          "output_type": "execute_result"
        }
      ],
      "source": [
        "x[2:5]"
      ]
    },
    {
      "cell_type": "code",
      "execution_count": null,
      "id": "e7707e92",
      "metadata": {
        "id": "e7707e92",
        "outputId": "ff5ed081-cec7-4f6b-ba6f-caf229b2d576"
      },
      "outputs": [
        {
          "data": {
            "text/plain": [
              "6    20\n",
              "5    20\n",
              "4    10\n",
              "3    10\n",
              "2    10\n",
              "1    10\n",
              "0    10\n",
              "dtype: int64"
            ]
          },
          "execution_count": 24,
          "metadata": {},
          "output_type": "execute_result"
        }
      ],
      "source": [
        "x[::-1]"
      ]
    },
    {
      "cell_type": "markdown",
      "id": "c75b4428",
      "metadata": {
        "id": "c75b4428"
      },
      "source": [
        "# aggregate function"
      ]
    },
    {
      "cell_type": "code",
      "execution_count": null,
      "id": "8f51b823",
      "metadata": {
        "id": "8f51b823",
        "outputId": "da68a8d1-53eb-4c20-f161-3d1a35b50763"
      },
      "outputs": [
        {
          "data": {
            "text/plain": [
              "min       1.000000\n",
              "max       4.000000\n",
              "mean      2.500000\n",
              "std       1.290994\n",
              "median    2.500000\n",
              "dtype: float64"
            ]
          },
          "execution_count": 28,
          "metadata": {},
          "output_type": "execute_result"
        }
      ],
      "source": [
        "s=pd.Series([1,2,3,4])\n",
        "s.agg([\"min\",\"max\",\"mean\",\"std\",\"median\"])"
      ]
    },
    {
      "cell_type": "markdown",
      "id": "aaae78ad",
      "metadata": {
        "id": "aaae78ad"
      },
      "source": [
        "# absolute func"
      ]
    },
    {
      "cell_type": "code",
      "execution_count": null,
      "id": "d3afde80",
      "metadata": {
        "id": "d3afde80",
        "outputId": "8a106a4f-ac4f-4708-c268-be7e34d602ad"
      },
      "outputs": [
        {
          "data": {
            "text/plain": [
              "0    1\n",
              "1    2\n",
              "2    3\n",
              "3    4\n",
              "dtype: int64"
            ]
          },
          "execution_count": 31,
          "metadata": {},
          "output_type": "execute_result"
        }
      ],
      "source": [
        "s1=pd.Series([-1,2,3,4])\n",
        "s1.abs()\n"
      ]
    },
    {
      "cell_type": "markdown",
      "id": "6199348b",
      "metadata": {
        "id": "6199348b"
      },
      "source": [
        "# appending two series\n"
      ]
    },
    {
      "cell_type": "code",
      "execution_count": null,
      "id": "99bd420c",
      "metadata": {
        "id": "99bd420c",
        "outputId": "ce366f9d-372d-4fdd-f0ec-4fa3a86d9c1b"
      },
      "outputs": [
        {
          "data": {
            "text/plain": [
              "0   -1\n",
              "1   -2\n",
              "2   -3\n",
              "3   -4\n",
              "4    0\n",
              "5    1\n",
              "6    2\n",
              "7    3\n",
              "8    4\n",
              "dtype: int64"
            ]
          },
          "execution_count": 38,
          "metadata": {},
          "output_type": "execute_result"
        }
      ],
      "source": [
        "s1=pd.Series([-1,-2,-3,-4])\n",
        "s2=pd.Series([0,1,2,3,4])\n",
        "pd.concat([s1,s2]).reset_index(drop=True)"
      ]
    },
    {
      "cell_type": "markdown",
      "id": "80bae818",
      "metadata": {
        "id": "80bae818"
      },
      "source": [
        "# As type function"
      ]
    },
    {
      "cell_type": "code",
      "execution_count": null,
      "id": "f0678e44",
      "metadata": {
        "id": "f0678e44",
        "outputId": "770da8f9-6736-4af0-99e0-7cf59e439236"
      },
      "outputs": [
        {
          "data": {
            "text/plain": [
              "0    1\n",
              "1    2\n",
              "2    3\n",
              "3    4\n",
              "dtype: object"
            ]
          },
          "execution_count": 40,
          "metadata": {},
          "output_type": "execute_result"
        }
      ],
      "source": [
        "s=pd.Series([1,2,3,4])\n",
        "s.astype(\"str\")"
      ]
    },
    {
      "cell_type": "markdown",
      "id": "ecac50b1",
      "metadata": {
        "id": "ecac50b1"
      },
      "source": [
        "# between function"
      ]
    },
    {
      "cell_type": "code",
      "execution_count": null,
      "id": "c01b8168",
      "metadata": {
        "id": "c01b8168",
        "outputId": "ec13050e-1b29-4c19-ad78-b9746035e252"
      },
      "outputs": [
        {
          "data": {
            "text/plain": [
              "0     True\n",
              "1     True\n",
              "2     True\n",
              "3    False\n",
              "4    False\n",
              "dtype: bool"
            ]
          },
          "execution_count": 18,
          "metadata": {},
          "output_type": "execute_result"
        }
      ],
      "source": [
        "s1=pd.Series([10,20,30,40,50])\n",
        "s1.between(10,30)"
      ]
    },
    {
      "cell_type": "markdown",
      "id": "de2d106d",
      "metadata": {
        "id": "de2d106d"
      },
      "source": [
        "# i can use all string func in our series"
      ]
    },
    {
      "cell_type": "code",
      "execution_count": null,
      "id": "2bdfd318",
      "metadata": {
        "id": "2bdfd318",
        "outputId": "73c6e42f-76ca-4e29-b080-3822ec4c7c62"
      },
      "outputs": [
        {
          "data": {
            "text/plain": [
              "0    SANCHIT\n",
              "1    HARSHIT\n",
              "2    SARTHAK\n",
              "dtype: object"
            ]
          },
          "execution_count": 43,
          "metadata": {},
          "output_type": "execute_result"
        }
      ],
      "source": [
        "s=pd.Series([\"sanchit\",\"harshit\",\"sarthak\"])\n",
        "s.str.upper()"
      ]
    },
    {
      "cell_type": "code",
      "execution_count": null,
      "id": "3a8c36e5",
      "metadata": {
        "id": "3a8c36e5",
        "outputId": "858a8b6c-84cd-419e-c0f6-37ec40411cd5"
      },
      "outputs": [
        {
          "data": {
            "text/plain": [
              "0    sanchit\n",
              "1    harshit\n",
              "2    sarthak\n",
              "dtype: object"
            ]
          },
          "execution_count": 44,
          "metadata": {},
          "output_type": "execute_result"
        }
      ],
      "source": [
        "s.str.lower()"
      ]
    },
    {
      "cell_type": "code",
      "execution_count": null,
      "id": "68304e6c",
      "metadata": {
        "id": "68304e6c",
        "outputId": "d1e25e55-eb20-48aa-a96a-794dda18063b"
      },
      "outputs": [
        {
          "name": "stdout",
          "output_type": "stream",
          "text": [
            "7\n",
            "7\n",
            "7\n"
          ]
        }
      ],
      "source": [
        "for i in s:\n",
        "    print(len(i))"
      ]
    },
    {
      "cell_type": "markdown",
      "id": "32addc05",
      "metadata": {
        "id": "32addc05"
      },
      "source": [
        "# strip function"
      ]
    },
    {
      "cell_type": "code",
      "execution_count": null,
      "id": "c81b21bd",
      "metadata": {
        "id": "c81b21bd",
        "outputId": "1165093d-aab0-4293-bb9e-3376c5aa6904"
      },
      "outputs": [
        {
          "name": "stdout",
          "output_type": "stream",
          "text": [
            "7\n",
            "7\n",
            "7\n"
          ]
        }
      ],
      "source": [
        "s2=pd.Series([\"  harshit  \",\"Sanchit  \",\"sarthak  \"])\n",
        "s3=s2.str.strip()\n",
        "for i in s3:\n",
        "    print(len(i))"
      ]
    },
    {
      "cell_type": "code",
      "execution_count": null,
      "id": "a90c8f5d",
      "metadata": {
        "id": "a90c8f5d",
        "outputId": "62e91b37-8275-4df0-92e6-616b6e697181"
      },
      "outputs": [
        {
          "data": {
            "text/plain": [
              "0    [29, 01, 03]\n",
              "1     [1, 05, 25]\n",
              "dtype: object"
            ]
          },
          "execution_count": 56,
          "metadata": {},
          "output_type": "execute_result"
        }
      ],
      "source": [
        "pd.Series([\"29/01/03\",\"1/05/25\"]).str.split(\"/\")"
      ]
    },
    {
      "cell_type": "markdown",
      "id": "f2cd5c80",
      "metadata": {
        "id": "f2cd5c80"
      },
      "source": [
        "# using contains function"
      ]
    },
    {
      "cell_type": "code",
      "execution_count": null,
      "id": "04033228",
      "metadata": {
        "id": "04033228",
        "outputId": "76466952-9b84-4b6a-fec2-82445bc8a4d8"
      },
      "outputs": [
        {
          "data": {
            "text/plain": [
              "0     True\n",
              "1    False\n",
              "2    False\n",
              "dtype: bool"
            ]
          },
          "execution_count": 3,
          "metadata": {},
          "output_type": "execute_result"
        }
      ],
      "source": [
        "s=pd.Series([\"@harshit\",\"sanchit\",\"sarthak\"])\n",
        "s.str.contains(\"@\")"
      ]
    },
    {
      "cell_type": "markdown",
      "id": "4b9c0d8c",
      "metadata": {
        "id": "4b9c0d8c"
      },
      "source": [
        "# using replace function"
      ]
    },
    {
      "cell_type": "code",
      "execution_count": null,
      "id": "a88084cf",
      "metadata": {
        "id": "a88084cf",
        "outputId": "7721c75d-4b41-4db9-ec9c-5a522a426f2d"
      },
      "outputs": [
        {
          "data": {
            "text/plain": [
              "0    harshit\n",
              "1    sanchit\n",
              "2    sarthak\n",
              "dtype: object"
            ]
          },
          "execution_count": 6,
          "metadata": {},
          "output_type": "execute_result"
        }
      ],
      "source": [
        "s.str.replace('@','')\n",
        "\n"
      ]
    },
    {
      "cell_type": "markdown",
      "id": "fc7b461a",
      "metadata": {
        "id": "fc7b461a"
      },
      "source": [
        "# using count"
      ]
    },
    {
      "cell_type": "code",
      "execution_count": null,
      "id": "59378ab9",
      "metadata": {
        "id": "59378ab9",
        "outputId": "f036d826-0c77-4ecf-a2e5-6ba0780c268d"
      },
      "outputs": [
        {
          "data": {
            "text/plain": [
              "0    1\n",
              "1    1\n",
              "2    2\n",
              "dtype: int64"
            ]
          },
          "execution_count": 7,
          "metadata": {},
          "output_type": "execute_result"
        }
      ],
      "source": [
        "s.str.count(\"a\")"
      ]
    },
    {
      "cell_type": "markdown",
      "id": "59c55645",
      "metadata": {
        "id": "59c55645"
      },
      "source": [
        "# using endwith and startwith"
      ]
    },
    {
      "cell_type": "code",
      "execution_count": null,
      "id": "3ed557e7",
      "metadata": {
        "id": "3ed557e7",
        "outputId": "06f18e15-2cc0-4e38-bc01-8e1e98e5fcaf"
      },
      "outputs": [
        {
          "data": {
            "text/plain": [
              "0    False\n",
              "1    False\n",
              "2    False\n",
              "dtype: bool"
            ]
          },
          "execution_count": 8,
          "metadata": {},
          "output_type": "execute_result"
        }
      ],
      "source": [
        "s.str.endswith('s')"
      ]
    },
    {
      "cell_type": "code",
      "execution_count": null,
      "id": "2bb55b64",
      "metadata": {
        "id": "2bb55b64",
        "outputId": "79f04231-42de-4489-a7d6-a2588156f202"
      },
      "outputs": [
        {
          "data": {
            "text/plain": [
              "0    False\n",
              "1     True\n",
              "2     True\n",
              "dtype: bool"
            ]
          },
          "execution_count": 9,
          "metadata": {},
          "output_type": "execute_result"
        }
      ],
      "source": [
        "s.str.startswith('s')"
      ]
    },
    {
      "cell_type": "code",
      "execution_count": null,
      "id": "696ebca2",
      "metadata": {
        "id": "696ebca2",
        "outputId": "cedc7552-a654-4d67-8603-a37e74776cd3"
      },
      "outputs": [
        {
          "data": {
            "text/plain": [
              "0    0\n",
              "1    4\n",
              "2   -1\n",
              "3   -1\n",
              "dtype: int64"
            ]
          },
          "execution_count": 17,
          "metadata": {},
          "output_type": "execute_result"
        }
      ],
      "source": [
        "s=pd.Series([\"harshit\",\"amitharshit\",\"sarthak\",\"hunny\"])\n",
        "s.str.find(\"harshit\")"
      ]
    },
    {
      "cell_type": "markdown",
      "id": "a93c7a6e",
      "metadata": {
        "id": "a93c7a6e"
      },
      "source": [
        "# converting a series to list"
      ]
    },
    {
      "cell_type": "code",
      "execution_count": null,
      "id": "caa35c11",
      "metadata": {
        "id": "caa35c11",
        "outputId": "a3ebcdbb-6ab8-4a26-ab89-5a49dfec3bba"
      },
      "outputs": [
        {
          "data": {
            "text/plain": [
              "['harshit', 'amitharshit', 'sarthak', 'hunny']"
            ]
          },
          "execution_count": 19,
          "metadata": {},
          "output_type": "execute_result"
        }
      ],
      "source": [
        "s.to_list()"
      ]
    }
  ],
  "metadata": {
    "kernelspec": {
      "display_name": ".venv",
      "language": "python",
      "name": "python3"
    },
    "language_info": {
      "codemirror_mode": {
        "name": "ipython",
        "version": 3
      },
      "file_extension": ".py",
      "mimetype": "text/x-python",
      "name": "python",
      "nbconvert_exporter": "python",
      "pygments_lexer": "ipython3",
      "version": "3.13.0"
    },
    "colab": {
      "provenance": [],
      "include_colab_link": true
    }
  },
  "nbformat": 4,
  "nbformat_minor": 5
}