{
  "cells": [
    {
      "cell_type": "markdown",
      "metadata": {
        "id": "view-in-github",
        "colab_type": "text"
      },
      "source": [
        "<a href=\"https://colab.research.google.com/github/harshitbhandari23/Numpy-basics/blob/main/first.ipynb\" target=\"_parent\"><img src=\"https://colab.research.google.com/assets/colab-badge.svg\" alt=\"Open In Colab\"/></a>"
      ]
    },
    {
      "cell_type": "code",
      "execution_count": null,
      "id": "14e4dd45",
      "metadata": {
        "id": "14e4dd45",
        "outputId": "cc909f8e-a334-470c-c9fa-49d290d0f6df"
      },
      "outputs": [
        {
          "data": {
            "text/plain": [
              "array([[1, 2, 3, 4]])"
            ]
          },
          "execution_count": 3,
          "metadata": {},
          "output_type": "execute_result"
        }
      ],
      "source": [
        "import numpy as np\n",
        "lst=[1,2,3,4]\n",
        "np.array(lst,ndmin=2)"
      ]
    },
    {
      "cell_type": "code",
      "execution_count": null,
      "id": "a98aa47c",
      "metadata": {
        "id": "a98aa47c",
        "outputId": "11455335-c267-4efd-a937-9dd3e4f7aad3"
      },
      "outputs": [
        {
          "name": "stdout",
          "output_type": "stream",
          "text": [
            "[0 1 2 3 4 5 6 7 8 9]\n"
          ]
        }
      ],
      "source": [
        "print(np.arange(10))"
      ]
    },
    {
      "cell_type": "markdown",
      "id": "1ce813d2",
      "metadata": {
        "id": "1ce813d2"
      },
      "source": [
        "# multi dimensional array\n"
      ]
    },
    {
      "cell_type": "code",
      "execution_count": null,
      "id": "495a9342",
      "metadata": {
        "id": "495a9342"
      },
      "outputs": [],
      "source": [
        "lst=[[1,2,3],[4,5,6],[7,8,9],[10,11,12]]\n",
        "arr=np.array(lst)"
      ]
    },
    {
      "cell_type": "markdown",
      "id": "6b40f81b",
      "metadata": {
        "id": "6b40f81b"
      },
      "source": [
        "# size of array"
      ]
    },
    {
      "cell_type": "code",
      "execution_count": null,
      "id": "7cfe7896",
      "metadata": {
        "id": "7cfe7896",
        "outputId": "cfea5189-3cb1-4638-e701-ffce76837c0f"
      },
      "outputs": [
        {
          "name": "stdout",
          "output_type": "stream",
          "text": [
            "total elem= 12\n",
            "total rows= 4\n",
            "total column= 3\n"
          ]
        }
      ],
      "source": [
        "elem=np.size(arr)\n",
        "row=np.size(arr,axis=0)\n",
        "col=np.size(arr,1)\n",
        "print(\"total elem=\",elem)\n",
        "print(\"total rows=\",row)\n",
        "print(\"total column=\",col)"
      ]
    },
    {
      "cell_type": "markdown",
      "id": "b7cbd6c8",
      "metadata": {
        "id": "b7cbd6c8"
      },
      "source": [
        "Shape function"
      ]
    },
    {
      "cell_type": "code",
      "execution_count": null,
      "id": "c065c3c8",
      "metadata": {
        "id": "c065c3c8",
        "outputId": "a012130d-4a17-42d5-8c2b-4983c56f2a06"
      },
      "outputs": [
        {
          "data": {
            "text/plain": [
              "(4, 3)"
            ]
          },
          "execution_count": 39,
          "metadata": {},
          "output_type": "execute_result"
        }
      ],
      "source": [
        "arr.shape"
      ]
    },
    {
      "cell_type": "markdown",
      "id": "1c2328ef",
      "metadata": {
        "id": "1c2328ef"
      },
      "source": [
        "# dtype function telss about the data type of elements of an aaray\n"
      ]
    },
    {
      "cell_type": "code",
      "execution_count": null,
      "id": "0b0ef9f9",
      "metadata": {
        "id": "0b0ef9f9",
        "outputId": "77abafd8-d66a-441e-dd01-828d14fe3f95"
      },
      "outputs": [
        {
          "data": {
            "text/plain": [
              "dtype('int64')"
            ]
          },
          "execution_count": 40,
          "metadata": {},
          "output_type": "execute_result"
        }
      ],
      "source": [
        "arr.dtype"
      ]
    },
    {
      "cell_type": "markdown",
      "id": "42a182f9",
      "metadata": {
        "id": "42a182f9"
      },
      "source": [
        "# ndim attribute teel about the dimension of our array"
      ]
    },
    {
      "cell_type": "code",
      "execution_count": null,
      "id": "5e97277a",
      "metadata": {
        "id": "5e97277a",
        "outputId": "b584e637-3bc7-4efd-d04c-49d03b0c0ae2"
      },
      "outputs": [
        {
          "data": {
            "text/plain": [
              "2"
            ]
          },
          "execution_count": 41,
          "metadata": {},
          "output_type": "execute_result"
        }
      ],
      "source": [
        "arr.ndim"
      ]
    },
    {
      "cell_type": "markdown",
      "id": "57cc78aa",
      "metadata": {
        "id": "57cc78aa"
      },
      "source": [
        "# zero func is used to create an array of zeros\n"
      ]
    },
    {
      "cell_type": "code",
      "execution_count": null,
      "id": "fe1f2238",
      "metadata": {
        "id": "fe1f2238",
        "outputId": "eeb334df-5cfe-4104-fb2e-4d8f27b1c1db"
      },
      "outputs": [
        {
          "data": {
            "text/plain": [
              "array([[0., 0., 0., 0.],\n",
              "       [0., 0., 0., 0.],\n",
              "       [0., 0., 0., 0.]])"
            ]
          },
          "execution_count": 42,
          "metadata": {},
          "output_type": "execute_result"
        }
      ],
      "source": [
        "a=np.zeros(shape=(3,4))\n",
        "a"
      ]
    },
    {
      "cell_type": "markdown",
      "id": "973f1fc7",
      "metadata": {
        "id": "973f1fc7"
      },
      "source": [
        "# ones function"
      ]
    },
    {
      "cell_type": "code",
      "execution_count": null,
      "id": "5e721424",
      "metadata": {
        "id": "5e721424",
        "outputId": "3d75804f-58eb-412a-ffe2-7242d3b1a4d8"
      },
      "outputs": [
        {
          "data": {
            "text/plain": [
              "array([[1, 1, 1],\n",
              "       [1, 1, 1],\n",
              "       [1, 1, 1]])"
            ]
          },
          "execution_count": 43,
          "metadata": {},
          "output_type": "execute_result"
        }
      ],
      "source": [
        "np.ones(shape=(3,3),dtype=int)"
      ]
    },
    {
      "cell_type": "markdown",
      "id": "1caa123e",
      "metadata": {
        "id": "1caa123e"
      },
      "source": [
        "eye func is used to create identity vector\n"
      ]
    },
    {
      "cell_type": "code",
      "execution_count": null,
      "id": "e7a8c71f",
      "metadata": {
        "id": "e7a8c71f",
        "outputId": "1a39c012-f804-43c5-d9a0-c783d2257307"
      },
      "outputs": [
        {
          "data": {
            "text/plain": [
              "array([[1, 0, 0, 0, 0, 0, 0, 0, 0, 0],\n",
              "       [0, 1, 0, 0, 0, 0, 0, 0, 0, 0],\n",
              "       [0, 0, 1, 0, 0, 0, 0, 0, 0, 0],\n",
              "       [0, 0, 0, 1, 0, 0, 0, 0, 0, 0],\n",
              "       [0, 0, 0, 0, 1, 0, 0, 0, 0, 0],\n",
              "       [0, 0, 0, 0, 0, 1, 0, 0, 0, 0],\n",
              "       [0, 0, 0, 0, 0, 0, 1, 0, 0, 0],\n",
              "       [0, 0, 0, 0, 0, 0, 0, 1, 0, 0],\n",
              "       [0, 0, 0, 0, 0, 0, 0, 0, 1, 0],\n",
              "       [0, 0, 0, 0, 0, 0, 0, 0, 0, 1]])"
            ]
          },
          "execution_count": 44,
          "metadata": {},
          "output_type": "execute_result"
        }
      ],
      "source": [
        "np.eye(10,dtype=int)"
      ]
    },
    {
      "cell_type": "markdown",
      "id": "c3814094",
      "metadata": {
        "id": "c3814094"
      },
      "source": [
        "RANDOM FUNCTIOMS\n",
        ".rand() cerate a matrix of  random numbers from 0 to 1\n"
      ]
    },
    {
      "cell_type": "code",
      "execution_count": null,
      "id": "51c72f33",
      "metadata": {
        "id": "51c72f33",
        "outputId": "f09e8386-6f29-4007-fc7b-f5ba85bbac10"
      },
      "outputs": [
        {
          "name": "stdout",
          "output_type": "stream",
          "text": [
            "[[0.91330145 0.76582638 0.97364827 0.40236064]\n",
            " [0.55277195 0.30636063 0.58661997 0.27492011]\n",
            " [0.45460777 0.75766525 0.81757073 0.25758529]]\n"
          ]
        },
        {
          "data": {
            "text/plain": [
              "array([[2, 6, 5, 8, 7],\n",
              "       [1, 1, 3, 5, 6]], dtype=int32)"
            ]
          },
          "execution_count": 45,
          "metadata": {},
          "output_type": "execute_result"
        }
      ],
      "source": [
        "arr=np.random.rand(3,4)\n",
        "print(arr)\n",
        "a=np.random.randint(1,10,(2,5))\n",
        "a\n"
      ]
    },
    {
      "cell_type": "code",
      "execution_count": null,
      "id": "8d9f11c6",
      "metadata": {
        "id": "8d9f11c6",
        "outputId": "764db77b-3a18-49a1-e92d-f399700845d9"
      },
      "outputs": [
        {
          "data": {
            "text/plain": [
              "(array([1.00000e+00, 0.00000e+00, 0.00000e+00, 0.00000e+00, 0.00000e+00,\n",
              "        0.00000e+00, 0.00000e+00, 0.00000e+00, 0.00000e+00, 0.00000e+00,\n",
              "        0.00000e+00, 0.00000e+00, 0.00000e+00, 0.00000e+00, 0.00000e+00,\n",
              "        0.00000e+00, 0.00000e+00, 0.00000e+00, 0.00000e+00, 0.00000e+00,\n",
              "        0.00000e+00, 0.00000e+00, 0.00000e+00, 1.00000e+00, 0.00000e+00,\n",
              "        0.00000e+00, 1.00000e+00, 0.00000e+00, 0.00000e+00, 1.00000e+00,\n",
              "        0.00000e+00, 0.00000e+00, 0.00000e+00, 1.00000e+00, 0.00000e+00,\n",
              "        0.00000e+00, 0.00000e+00, 0.00000e+00, 0.00000e+00, 0.00000e+00,\n",
              "        0.00000e+00, 0.00000e+00, 1.00000e+00, 1.00000e+00, 0.00000e+00,\n",
              "        0.00000e+00, 2.00000e+00, 2.00000e+00, 0.00000e+00, 0.00000e+00,\n",
              "        0.00000e+00, 2.00000e+00, 1.00000e+00, 2.00000e+00, 2.00000e+00,\n",
              "        0.00000e+00, 1.00000e+00, 1.00000e+00, 0.00000e+00, 3.00000e+00,\n",
              "        1.00000e+00, 1.00000e+00, 3.00000e+00, 1.00000e+00, 1.00000e+00,\n",
              "        1.00000e+00, 0.00000e+00, 0.00000e+00, 1.00000e+00, 3.00000e+00,\n",
              "        3.00000e+00, 1.00000e+00, 3.00000e+00, 1.00000e+00, 3.00000e+00,\n",
              "        4.00000e+00, 6.00000e+00, 2.00000e+00, 1.00000e+00, 7.00000e+00,\n",
              "        6.00000e+00, 4.00000e+00, 4.00000e+00, 1.00000e+00, 5.00000e+00,\n",
              "        4.00000e+00, 7.00000e+00, 6.00000e+00, 7.00000e+00, 9.00000e+00,\n",
              "        4.00000e+00, 9.00000e+00, 5.00000e+00, 1.20000e+01, 5.00000e+00,\n",
              "        8.00000e+00, 1.00000e+01, 9.00000e+00, 6.00000e+00, 8.00000e+00,\n",
              "        1.60000e+01, 1.10000e+01, 1.10000e+01, 1.70000e+01, 1.40000e+01,\n",
              "        9.00000e+00, 1.30000e+01, 1.50000e+01, 1.40000e+01, 1.50000e+01,\n",
              "        2.00000e+01, 2.60000e+01, 3.00000e+01, 1.60000e+01, 2.20000e+01,\n",
              "        3.10000e+01, 2.40000e+01, 2.30000e+01, 3.30000e+01, 3.20000e+01,\n",
              "        3.00000e+01, 2.60000e+01, 3.80000e+01, 4.00000e+01, 3.60000e+01,\n",
              "        2.70000e+01, 3.60000e+01, 4.50000e+01, 4.40000e+01, 6.30000e+01,\n",
              "        5.90000e+01, 6.30000e+01, 5.20000e+01, 6.30000e+01, 6.40000e+01,\n",
              "        6.70000e+01, 7.20000e+01, 8.70000e+01, 6.80000e+01, 5.20000e+01,\n",
              "        8.20000e+01, 8.80000e+01, 9.80000e+01, 1.08000e+02, 9.60000e+01,\n",
              "        9.90000e+01, 1.17000e+02, 1.00000e+02, 1.33000e+02, 1.32000e+02,\n",
              "        1.19000e+02, 1.32000e+02, 1.46000e+02, 1.52000e+02, 1.60000e+02,\n",
              "        1.53000e+02, 1.58000e+02, 1.90000e+02, 1.75000e+02, 1.98000e+02,\n",
              "        2.05000e+02, 2.11000e+02, 2.20000e+02, 2.46000e+02, 2.36000e+02,\n",
              "        2.65000e+02, 2.82000e+02, 2.62000e+02, 2.37000e+02, 2.94000e+02,\n",
              "        3.33000e+02, 2.68000e+02, 3.36000e+02, 3.73000e+02, 3.56000e+02,\n",
              "        3.81000e+02, 4.13000e+02, 4.14000e+02, 4.50000e+02, 4.65000e+02,\n",
              "        5.05000e+02, 4.26000e+02, 5.19000e+02, 5.64000e+02, 5.38000e+02,\n",
              "        5.78000e+02, 6.01000e+02, 6.10000e+02, 6.71000e+02, 7.60000e+02,\n",
              "        7.34000e+02, 7.84000e+02, 8.07000e+02, 8.12000e+02, 8.69000e+02,\n",
              "        8.68000e+02, 9.29000e+02, 9.86000e+02, 1.01000e+03, 1.03100e+03,\n",
              "        9.96000e+02, 1.11100e+03, 1.15000e+03, 1.11300e+03, 1.21300e+03,\n",
              "        1.23900e+03, 1.34800e+03, 1.38300e+03, 1.48500e+03, 1.50800e+03,\n",
              "        1.58500e+03, 1.68500e+03, 1.67300e+03, 1.81000e+03, 1.85600e+03,\n",
              "        1.85100e+03, 1.94100e+03, 2.06400e+03, 2.21000e+03, 2.18200e+03,\n",
              "        2.19300e+03, 2.33200e+03, 2.35800e+03, 2.63600e+03, 2.66200e+03,\n",
              "        2.79600e+03, 2.89000e+03, 2.90300e+03, 3.07600e+03, 3.14100e+03,\n",
              "        3.27500e+03, 3.37800e+03, 3.56800e+03, 3.51300e+03, 3.81000e+03,\n",
              "        3.83600e+03, 4.12300e+03, 4.19500e+03, 4.37300e+03, 4.55400e+03,\n",
              "        4.64500e+03, 4.86100e+03, 4.92300e+03, 5.10000e+03, 5.23700e+03,\n",
              "        5.44100e+03, 5.66200e+03, 5.87900e+03, 6.09900e+03, 6.21000e+03,\n",
              "        6.68100e+03, 6.60100e+03, 6.80500e+03, 7.26900e+03, 7.51800e+03,\n",
              "        7.63200e+03, 7.92500e+03, 8.01700e+03, 8.36700e+03, 8.69100e+03,\n",
              "        8.92300e+03, 9.11900e+03, 9.66800e+03, 9.94700e+03, 1.00140e+04,\n",
              "        1.05410e+04, 1.10250e+04, 1.11320e+04, 1.13040e+04, 1.20080e+04,\n",
              "        1.24270e+04, 1.25920e+04, 1.29400e+04, 1.34370e+04, 1.35990e+04,\n",
              "        1.41360e+04, 1.46990e+04, 1.51780e+04, 1.54330e+04, 1.59160e+04,\n",
              "        1.63650e+04, 1.69290e+04, 1.76220e+04, 1.79240e+04, 1.86880e+04,\n",
              "        1.90920e+04, 1.95340e+04, 1.97630e+04, 2.07630e+04, 2.12190e+04,\n",
              "        2.20430e+04, 2.27460e+04, 2.28850e+04, 2.36640e+04, 2.44570e+04,\n",
              "        2.51370e+04, 2.57970e+04, 2.68020e+04, 2.75380e+04, 2.76310e+04,\n",
              "        2.87140e+04, 2.93940e+04, 2.98140e+04, 3.10180e+04, 3.17920e+04,\n",
              "        3.27490e+04, 3.35300e+04, 3.42940e+04, 3.54260e+04, 3.58820e+04,\n",
              "        3.70950e+04, 3.79550e+04, 3.87560e+04, 3.99420e+04, 4.10300e+04,\n",
              "        4.17030e+04, 4.27930e+04, 4.46960e+04, 4.53820e+04, 4.66420e+04,\n",
              "        4.74060e+04, 4.85070e+04, 4.95600e+04, 5.14780e+04, 5.22270e+04,\n",
              "        5.29640e+04, 5.44310e+04, 5.59500e+04, 5.75380e+04, 5.84040e+04,\n",
              "        6.02690e+04, 6.16470e+04, 6.28730e+04, 6.40510e+04, 6.54600e+04,\n",
              "        6.70450e+04, 6.84280e+04, 7.00450e+04, 7.20770e+04, 7.27010e+04,\n",
              "        7.46250e+04, 7.57880e+04, 7.79670e+04, 8.00030e+04, 8.14020e+04,\n",
              "        8.32450e+04, 8.47290e+04, 8.65590e+04, 8.79410e+04, 9.00750e+04,\n",
              "        9.22600e+04, 9.39380e+04, 9.57460e+04, 9.76900e+04, 9.98320e+04,\n",
              "        1.01390e+05, 1.03378e+05, 1.05355e+05, 1.07980e+05, 1.09165e+05,\n",
              "        1.11347e+05, 1.13880e+05, 1.15509e+05, 1.18306e+05, 1.20716e+05,\n",
              "        1.22879e+05, 1.24401e+05, 1.27037e+05, 1.30203e+05, 1.31470e+05,\n",
              "        1.33948e+05, 1.37333e+05, 1.39552e+05, 1.41336e+05, 1.42876e+05,\n",
              "        1.47062e+05, 1.48249e+05, 1.50916e+05, 1.53755e+05, 1.56608e+05,\n",
              "        1.59175e+05, 1.61807e+05, 1.63816e+05, 1.66990e+05, 1.69412e+05,\n",
              "        1.72987e+05, 1.74761e+05, 1.76693e+05, 1.80504e+05, 1.83948e+05,\n",
              "        1.86256e+05, 1.88710e+05, 1.91195e+05, 1.93436e+05, 1.96965e+05,\n",
              "        1.99351e+05, 2.03865e+05, 2.06609e+05, 2.09022e+05, 2.11519e+05,\n",
              "        2.15044e+05, 2.18413e+05, 2.20458e+05, 2.22839e+05, 2.26348e+05,\n",
              "        2.29585e+05, 2.32055e+05, 2.35931e+05, 2.38873e+05, 2.42206e+05,\n",
              "        2.45137e+05, 2.47073e+05, 2.51124e+05, 2.54080e+05, 2.57256e+05,\n",
              "        2.60408e+05, 2.63282e+05, 2.67134e+05, 2.68476e+05, 2.72817e+05,\n",
              "        2.74954e+05, 2.78907e+05, 2.82214e+05, 2.83773e+05, 2.88011e+05,\n",
              "        2.90339e+05, 2.94437e+05, 2.96594e+05, 2.99655e+05, 3.03016e+05,\n",
              "        3.06638e+05, 3.09607e+05, 3.12027e+05, 3.15503e+05, 3.18146e+05,\n",
              "        3.21303e+05, 3.23889e+05, 3.27630e+05, 3.29796e+05, 3.32949e+05,\n",
              "        3.35670e+05, 3.38492e+05, 3.42327e+05, 3.43958e+05, 3.46655e+05,\n",
              "        3.50199e+05, 3.53786e+05, 3.54919e+05, 3.59582e+05, 3.62019e+05,\n",
              "        3.65037e+05, 3.66395e+05, 3.70471e+05, 3.72670e+05, 3.74519e+05,\n",
              "        3.76726e+05, 3.79139e+05, 3.82373e+05, 3.85259e+05, 3.87093e+05,\n",
              "        3.89449e+05, 3.90662e+05, 3.94246e+05, 3.96933e+05, 3.97685e+05,\n",
              "        4.01557e+05, 4.02972e+05, 4.04787e+05, 4.06700e+05, 4.08949e+05,\n",
              "        4.12654e+05, 4.13488e+05, 4.15027e+05, 4.16702e+05, 4.18351e+05,\n",
              "        4.19973e+05, 4.22160e+05, 4.23483e+05, 4.25039e+05, 4.27147e+05,\n",
              "        4.29410e+05, 4.29528e+05, 4.31070e+05, 4.33422e+05, 4.35095e+05,\n",
              "        4.34851e+05, 4.35306e+05, 4.38548e+05, 4.39214e+05, 4.40296e+05,\n",
              "        4.41121e+05, 4.41780e+05, 4.43223e+05, 4.44048e+05, 4.44133e+05,\n",
              "        4.45093e+05, 4.46658e+05, 4.47466e+05, 4.47515e+05, 4.49477e+05,\n",
              "        4.49013e+05, 4.49300e+05, 4.49854e+05, 4.49348e+05, 4.51339e+05,\n",
              "        4.48440e+05, 4.50250e+05, 4.50625e+05, 4.50093e+05, 4.50837e+05,\n",
              "        4.51279e+05, 4.50390e+05, 4.50229e+05, 4.49040e+05, 4.50131e+05,\n",
              "        4.48287e+05, 4.47901e+05, 4.47429e+05, 4.48290e+05, 4.47823e+05,\n",
              "        4.45975e+05, 4.45363e+05, 4.45177e+05, 4.44875e+05, 4.43084e+05,\n",
              "        4.41973e+05, 4.40659e+05, 4.40535e+05, 4.39126e+05, 4.38077e+05,\n",
              "        4.37370e+05, 4.35869e+05, 4.33189e+05, 4.33512e+05, 4.30851e+05,\n",
              "        4.29208e+05, 4.28985e+05, 4.26338e+05, 4.24944e+05, 4.22607e+05,\n",
              "        4.22326e+05, 4.20172e+05, 4.18198e+05, 4.16284e+05, 4.15659e+05,\n",
              "        4.11698e+05, 4.10436e+05, 4.08470e+05, 4.06241e+05, 4.04982e+05,\n",
              "        4.01768e+05, 4.00251e+05, 3.97940e+05, 3.95768e+05, 3.93256e+05,\n",
              "        3.91033e+05, 3.88080e+05, 3.86505e+05, 3.82962e+05, 3.81801e+05,\n",
              "        3.77664e+05, 3.76643e+05, 3.74559e+05, 3.71123e+05, 3.68460e+05,\n",
              "        3.65806e+05, 3.62579e+05, 3.60514e+05, 3.57055e+05, 3.54663e+05,\n",
              "        3.51886e+05, 3.49215e+05, 3.46457e+05, 3.44211e+05, 3.40038e+05,\n",
              "        3.38507e+05, 3.34991e+05, 3.32148e+05, 3.28622e+05, 3.26087e+05,\n",
              "        3.23303e+05, 3.20460e+05, 3.17117e+05, 3.14392e+05, 3.11541e+05,\n",
              "        3.07817e+05, 3.05675e+05, 3.02341e+05, 2.99215e+05, 2.95919e+05,\n",
              "        2.92650e+05, 2.89493e+05, 2.86204e+05, 2.83421e+05, 2.80593e+05,\n",
              "        2.77789e+05, 2.75426e+05, 2.71241e+05, 2.67814e+05, 2.65884e+05,\n",
              "        2.62303e+05, 2.59553e+05, 2.55859e+05, 2.53345e+05, 2.49673e+05,\n",
              "        2.46605e+05, 2.43304e+05, 2.40411e+05, 2.37669e+05, 2.34071e+05,\n",
              "        2.30916e+05, 2.27868e+05, 2.25420e+05, 2.22992e+05, 2.18562e+05,\n",
              "        2.16304e+05, 2.13637e+05, 2.10522e+05, 2.07486e+05, 2.05625e+05,\n",
              "        2.02599e+05, 1.99364e+05, 1.97213e+05, 1.93746e+05, 1.90616e+05,\n",
              "        1.86733e+05, 1.85347e+05, 1.82812e+05, 1.78635e+05, 1.77498e+05,\n",
              "        1.74454e+05, 1.71513e+05, 1.68797e+05, 1.65773e+05, 1.63389e+05,\n",
              "        1.60351e+05, 1.58872e+05, 1.56394e+05, 1.52827e+05, 1.50228e+05,\n",
              "        1.47719e+05, 1.45890e+05, 1.43478e+05, 1.40227e+05, 1.38559e+05,\n",
              "        1.35728e+05, 1.32547e+05, 1.30836e+05, 1.28504e+05, 1.26538e+05,\n",
              "        1.23635e+05, 1.21776e+05, 1.19236e+05, 1.16904e+05, 1.14783e+05,\n",
              "        1.13263e+05, 1.10880e+05, 1.09036e+05, 1.07063e+05, 1.05712e+05,\n",
              "        1.03088e+05, 1.01333e+05, 9.94450e+04, 9.72730e+04, 9.43690e+04,\n",
              "        9.33080e+04, 9.14980e+04, 8.97360e+04, 8.81100e+04, 8.63280e+04,\n",
              "        8.45310e+04, 8.27550e+04, 8.04520e+04, 7.87510e+04, 7.74280e+04,\n",
              "        7.59310e+04, 7.41170e+04, 7.23770e+04, 7.16340e+04, 6.97450e+04,\n",
              "        6.80040e+04, 6.66920e+04, 6.50220e+04, 6.40340e+04, 6.22870e+04,\n",
              "        6.07500e+04, 5.95220e+04, 5.83950e+04, 5.67890e+04, 5.54780e+04,\n",
              "        5.43200e+04, 5.27600e+04, 5.17470e+04, 5.03230e+04, 4.93920e+04,\n",
              "        4.80400e+04, 4.69200e+04, 4.56700e+04, 4.49040e+04, 4.38100e+04,\n",
              "        4.28350e+04, 4.17670e+04, 4.09320e+04, 3.94850e+04, 3.88540e+04,\n",
              "        3.79550e+04, 3.67290e+04, 3.58600e+04, 3.50800e+04, 3.37870e+04,\n",
              "        3.33200e+04, 3.25260e+04, 3.12580e+04, 3.09030e+04, 3.00970e+04,\n",
              "        2.90760e+04, 2.86430e+04, 2.77970e+04, 2.71790e+04, 2.63920e+04,\n",
              "        2.54520e+04, 2.47060e+04, 2.43160e+04, 2.36340e+04, 2.26540e+04,\n",
              "        2.21840e+04, 2.17780e+04, 2.12340e+04, 2.04630e+04, 1.96990e+04,\n",
              "        1.91750e+04, 1.88490e+04, 1.83800e+04, 1.76920e+04, 1.71940e+04,\n",
              "        1.68590e+04, 1.64000e+04, 1.62190e+04, 1.55010e+04, 1.48260e+04,\n",
              "        1.45860e+04, 1.38610e+04, 1.34400e+04, 1.32350e+04, 1.30630e+04,\n",
              "        1.24910e+04, 1.22260e+04, 1.18820e+04, 1.13400e+04, 1.10720e+04,\n",
              "        1.08200e+04, 1.03440e+04, 1.02380e+04, 9.79100e+03, 9.36000e+03,\n",
              "        9.23500e+03, 8.91900e+03, 8.58800e+03, 8.41000e+03, 8.05700e+03,\n",
              "        7.82400e+03, 7.60400e+03, 7.31000e+03, 7.16000e+03, 6.91100e+03,\n",
              "        6.62400e+03, 6.48100e+03, 6.23700e+03, 5.99300e+03, 5.94300e+03,\n",
              "        5.62900e+03, 5.42800e+03, 5.20600e+03, 5.14600e+03, 4.90300e+03,\n",
              "        4.68800e+03, 4.70200e+03, 4.46100e+03, 4.29100e+03, 4.18300e+03,\n",
              "        3.97900e+03, 3.92300e+03, 3.76000e+03, 3.55600e+03, 3.50600e+03,\n",
              "        3.32400e+03, 3.19900e+03, 3.10800e+03, 2.94900e+03, 2.98600e+03,\n",
              "        2.77800e+03, 2.67300e+03, 2.62900e+03, 2.52300e+03, 2.38000e+03,\n",
              "        2.38600e+03, 2.32600e+03, 2.13300e+03, 2.21100e+03, 2.01800e+03,\n",
              "        1.85900e+03, 1.81700e+03, 1.84900e+03, 1.70900e+03, 1.74000e+03,\n",
              "        1.56300e+03, 1.56500e+03, 1.46400e+03, 1.39300e+03, 1.34200e+03,\n",
              "        1.31300e+03, 1.29100e+03, 1.26700e+03, 1.12700e+03, 1.12200e+03,\n",
              "        1.05800e+03, 1.06400e+03, 1.02500e+03, 9.53000e+02, 9.55000e+02,\n",
              "        9.26000e+02, 8.63000e+02, 7.81000e+02, 7.43000e+02, 7.67000e+02,\n",
              "        7.30000e+02, 7.08000e+02, 6.80000e+02, 6.55000e+02, 6.10000e+02,\n",
              "        5.37000e+02, 5.61000e+02, 5.63000e+02, 5.37000e+02, 4.88000e+02,\n",
              "        5.13000e+02, 4.74000e+02, 3.96000e+02, 3.88000e+02, 4.05000e+02,\n",
              "        4.12000e+02, 4.13000e+02, 3.61000e+02, 3.30000e+02, 3.59000e+02,\n",
              "        3.27000e+02, 2.88000e+02, 2.93000e+02, 2.57000e+02, 2.55000e+02,\n",
              "        2.62000e+02, 2.39000e+02, 2.35000e+02, 2.40000e+02, 1.90000e+02,\n",
              "        2.08000e+02, 1.99000e+02, 1.98000e+02, 1.73000e+02, 1.89000e+02,\n",
              "        1.73000e+02, 1.57000e+02, 1.59000e+02, 1.36000e+02, 1.31000e+02,\n",
              "        1.31000e+02, 1.16000e+02, 1.14000e+02, 1.04000e+02, 1.06000e+02,\n",
              "        1.03000e+02, 1.05000e+02, 9.80000e+01, 9.00000e+01, 7.80000e+01,\n",
              "        9.60000e+01, 7.20000e+01, 7.80000e+01, 6.20000e+01, 8.30000e+01,\n",
              "        5.80000e+01, 6.60000e+01, 5.20000e+01, 6.40000e+01, 5.50000e+01,\n",
              "        6.50000e+01, 5.60000e+01, 5.20000e+01, 3.40000e+01, 4.00000e+01,\n",
              "        4.00000e+01, 3.30000e+01, 3.00000e+01, 3.50000e+01, 3.10000e+01,\n",
              "        3.10000e+01, 2.50000e+01, 3.10000e+01, 2.40000e+01, 3.80000e+01,\n",
              "        2.50000e+01, 3.00000e+01, 1.80000e+01, 2.70000e+01, 2.00000e+01,\n",
              "        1.50000e+01, 2.00000e+01, 1.20000e+01, 1.20000e+01, 9.00000e+00,\n",
              "        1.30000e+01, 6.00000e+00, 1.90000e+01, 7.00000e+00, 1.40000e+01,\n",
              "        9.00000e+00, 1.20000e+01, 1.00000e+01, 1.20000e+01, 7.00000e+00,\n",
              "        9.00000e+00, 9.00000e+00, 6.00000e+00, 1.30000e+01, 3.00000e+00,\n",
              "        8.00000e+00, 1.00000e+01, 8.00000e+00, 7.00000e+00, 3.00000e+00,\n",
              "        7.00000e+00, 3.00000e+00, 1.00000e+01, 0.00000e+00, 1.00000e+00,\n",
              "        6.00000e+00, 4.00000e+00, 6.00000e+00, 1.00000e+00, 2.00000e+00,\n",
              "        4.00000e+00, 3.00000e+00, 4.00000e+00, 4.00000e+00, 2.00000e+00,\n",
              "        4.00000e+00, 2.00000e+00, 2.00000e+00, 2.00000e+00, 3.00000e+00,\n",
              "        2.00000e+00, 2.00000e+00, 1.00000e+00, 1.00000e+00, 3.00000e+00,\n",
              "        1.00000e+00, 3.00000e+00, 0.00000e+00, 1.00000e+00, 1.00000e+00,\n",
              "        0.00000e+00, 1.00000e+00, 0.00000e+00, 3.00000e+00, 0.00000e+00,\n",
              "        0.00000e+00, 1.00000e+00, 0.00000e+00, 0.00000e+00, 0.00000e+00,\n",
              "        0.00000e+00, 2.00000e+00, 0.00000e+00, 0.00000e+00, 0.00000e+00,\n",
              "        0.00000e+00, 0.00000e+00, 0.00000e+00, 0.00000e+00, 0.00000e+00,\n",
              "        2.00000e+00, 0.00000e+00, 0.00000e+00, 0.00000e+00, 0.00000e+00,\n",
              "        0.00000e+00, 0.00000e+00, 0.00000e+00, 0.00000e+00, 0.00000e+00,\n",
              "        0.00000e+00, 0.00000e+00, 2.00000e+00, 0.00000e+00, 0.00000e+00,\n",
              "        0.00000e+00, 0.00000e+00, 0.00000e+00, 0.00000e+00, 2.00000e+00]),\n",
              " array([-5.74125972, -5.72996574, -5.71867176, ...,  5.53013333,\n",
              "         5.54142731,  5.55272129], shape=(1001,)),\n",
              " <BarContainer object of 1000 artists>)"
            ]
          },
          "execution_count": 46,
          "metadata": {},
          "output_type": "execute_result"
        },
        {
          "data": {
            "image/png": "[encoded data removed]",
            "text/plain": [
              "<Figure size 640x480 with 1 Axes>"
            ]
          },
          "metadata": {},
          "output_type": "display_data"
        }
      ],
      "source": [
        "\n",
        "import matplotlib.pyplot as plt\n",
        "a=np.random.randn(100000000)\n",
        "plt.hist(a,bins=1000)\n",
        "\n"
      ]
    },
    {
      "cell_type": "markdown",
      "id": "c2d1e9d5",
      "metadata": {
        "id": "c2d1e9d5"
      },
      "source": [
        "reshape function"
      ]
    },
    {
      "cell_type": "code",
      "execution_count": null,
      "id": "fba28e3d",
      "metadata": {
        "id": "fba28e3d",
        "outputId": "a7cb4711-bd37-42bd-cadf-26f02bc36e43"
      },
      "outputs": [
        {
          "name": "stdout",
          "output_type": "stream",
          "text": [
            "[[ 4  4  5  5]\n",
            " [ 4 10  4 10]\n",
            " [ 1  3  9  8]]\n",
            "[[ 4  4  5]\n",
            " [ 5  4 10]\n",
            " [ 4 10  1]\n",
            " [ 3  9  8]]\n"
          ]
        }
      ],
      "source": [
        "arr=np.random.randint(1,13,(3,4))\n",
        "arr.shape\n",
        "print(arr)\n",
        "print(arr.reshape(4,3))\n",
        "\n"
      ]
    },
    {
      "cell_type": "markdown",
      "id": "267099d2",
      "metadata": {
        "id": "267099d2"
      },
      "source": [
        "line space func"
      ]
    },
    {
      "cell_type": "code",
      "execution_count": null,
      "id": "0fb9bb7c",
      "metadata": {
        "id": "0fb9bb7c",
        "outputId": "5b1cb291-e13c-48ae-94ce-37bd5d4d3557"
      },
      "outputs": [
        {
          "data": {
            "text/plain": [
              "(array([ 1,  3,  5,  7, 10]), np.float64(2.25))"
            ]
          },
          "execution_count": 48,
          "metadata": {},
          "output_type": "execute_result"
        }
      ],
      "source": [
        "np.linspace(1,10,5,dtype=int,retstep=True)"
      ]
    },
    {
      "cell_type": "markdown",
      "id": "f74e92ea",
      "metadata": {
        "id": "f74e92ea"
      },
      "source": [
        "flatten function convert a n array to a single dimnesion"
      ]
    },
    {
      "cell_type": "code",
      "execution_count": null,
      "id": "e1c9b43d",
      "metadata": {
        "id": "e1c9b43d",
        "outputId": "2d6211fb-fc93-4620-ba4b-136b6cd4b47d"
      },
      "outputs": [
        {
          "name": "stdout",
          "output_type": "stream",
          "text": [
            "[[0 1 2]\n",
            " [3 4 5]\n",
            " [6 7 8]]\n"
          ]
        },
        {
          "data": {
            "text/plain": [
              "array([0, 1, 2, 3, 4, 5, 6, 7, 8])"
            ]
          },
          "execution_count": 49,
          "metadata": {},
          "output_type": "execute_result"
        }
      ],
      "source": [
        "arr=np.arange(0,9).reshape((3,3))\n",
        "print(arr)\n",
        "arr.flatten()"
      ]
    },
    {
      "cell_type": "markdown",
      "id": "8a99418d",
      "metadata": {
        "id": "8a99418d"
      },
      "source": [
        "copy function"
      ]
    },
    {
      "cell_type": "code",
      "execution_count": null,
      "id": "24756b9a",
      "metadata": {
        "id": "24756b9a",
        "outputId": "c1930eda-02a3-48ba-b4c0-d33d9667c9dd"
      },
      "outputs": [
        {
          "name": "stdout",
          "output_type": "stream",
          "text": [
            "[8 1 7 9 1 4 2 7 4 1] 2290824232848\n",
            "[8 1 7 9 1 4 2 7 4 1] 2290824232848\n"
          ]
        }
      ],
      "source": [
        "arr=np.random.randint(1,10,10)\n",
        "arr1=arr\n",
        "print(arr,id(arr))\n",
        "print(arr1,id(arr1)) # shallow copy\n"
      ]
    },
    {
      "cell_type": "code",
      "execution_count": null,
      "id": "347a522a",
      "metadata": {
        "id": "347a522a",
        "outputId": "fd00e503-9357-4a3a-dffd-698cd517e168"
      },
      "outputs": [
        {
          "name": "stdout",
          "output_type": "stream",
          "text": [
            "[8 1 7 9 1 4 2 7 4 1] 2290824232848\n",
            "[8 1 7 9 1 4 2 7 4 1] 2290824158672\n"
          ]
        }
      ],
      "source": [
        "arr1=np.copy(arr)\n",
        "print(arr,id(arr))\n",
        "print(arr1,id(arr1))"
      ]
    },
    {
      "cell_type": "code",
      "execution_count": null,
      "id": "d0c40e49",
      "metadata": {
        "id": "d0c40e49",
        "outputId": "258a6ddd-aa2c-4ce7-f356-0cce48435eb6"
      },
      "outputs": [
        {
          "name": "stdout",
          "output_type": "stream",
          "text": [
            "9\n",
            "1\n",
            "44\n"
          ]
        }
      ],
      "source": [
        "print(arr.max())\n",
        "print(arr.min())\n",
        "print(arr.sum())"
      ]
    },
    {
      "cell_type": "markdown",
      "id": "b349c306",
      "metadata": {
        "id": "b349c306"
      },
      "source": [
        "max min sum with 2d array"
      ]
    },
    {
      "cell_type": "code",
      "execution_count": null,
      "id": "967587a6",
      "metadata": {
        "id": "967587a6",
        "outputId": "5cd3a833-f8d8-4759-d32c-9064629959d0"
      },
      "outputs": [
        {
          "name": "stdout",
          "output_type": "stream",
          "text": [
            "[[0 1 2]\n",
            " [3 4 5]\n",
            " [6 7 8]]\n",
            "[6 7 8]\n",
            "[0 1 2]\n",
            "[ 9 12 15]\n",
            "********************\n",
            "[2 5 8]\n",
            "[0 3 6]\n",
            "[ 3 12 21]\n"
          ]
        }
      ],
      "source": [
        "c=np.arange(0,9).reshape((3,3))\n",
        "print(c)\n",
        "# for each column\n",
        "print(c.max(axis=0))\n",
        "print(c.min(axis=0))\n",
        "print(c.sum(axis=0))\n",
        "#for each row\n",
        "print(\"*\"*20)\n",
        "print(c.max(axis=1))\n",
        "print(c.min(axis=1))\n",
        "print(c.sum(axis=1))"
      ]
    },
    {
      "cell_type": "code",
      "execution_count": null,
      "id": "d8784f07",
      "metadata": {
        "id": "d8784f07",
        "outputId": "bce0f601-cd27-4947-8db4-3096726d4bb2"
      },
      "outputs": [
        {
          "data": {
            "text/plain": [
              "array([[9, 4, 9],\n",
              "       [9, 1, 6],\n",
              "       [4, 6, 8]], dtype=int32)"
            ]
          },
          "execution_count": 54,
          "metadata": {},
          "output_type": "execute_result"
        }
      ],
      "source": [
        "np.random.seed(3)\n",
        "np.random.randint(1,10,(3,3))"
      ]
    },
    {
      "cell_type": "markdown",
      "id": "20eabe4a",
      "metadata": {
        "id": "20eabe4a"
      },
      "source": [
        "sort function"
      ]
    },
    {
      "cell_type": "code",
      "execution_count": null,
      "id": "87c7a9d9",
      "metadata": {
        "id": "87c7a9d9",
        "outputId": "c35911aa-1db1-48b6-97f9-3b099a3a2feb"
      },
      "outputs": [
        {
          "name": "stdout",
          "output_type": "stream",
          "text": [
            "[[7 1 5]\n",
            " [8 9 2]\n",
            " [7 3 3]]\n",
            "*************************\n"
          ]
        },
        {
          "data": {
            "text/plain": [
              "array([[7, 1, 2],\n",
              "       [7, 3, 3],\n",
              "       [8, 9, 5]], dtype=int32)"
            ]
          },
          "execution_count": 55,
          "metadata": {},
          "output_type": "execute_result"
        }
      ],
      "source": [
        "d=np.random.randint(1,10,9).reshape((3,3))\n",
        "print(d)\n",
        "print(\"*\"*25)\n",
        "np.sort(d,axis=0)\n",
        "np.sort(d,axis=0,kind=\"quicksort\")"
      ]
    },
    {
      "cell_type": "markdown",
      "id": "a786cce4",
      "metadata": {
        "id": "a786cce4"
      },
      "source": [
        "MATHeMATICAL OPERATIONS"
      ]
    },
    {
      "cell_type": "code",
      "execution_count": null,
      "id": "4e0f0f3c",
      "metadata": {
        "id": "4e0f0f3c",
        "outputId": "1f84f5c8-606f-4c2f-c0eb-465566682e6f"
      },
      "outputs": [
        {
          "name": "stdout",
          "output_type": "stream",
          "text": [
            "[[ 3  4  5]\n",
            " [ 6  7  8]\n",
            " [ 9 10 11]]\n",
            "[[ 2  4  6]\n",
            " [ 8 10 12]\n",
            " [14 16 18]]\n",
            "[[0 1 1]\n",
            " [2 2 3]\n",
            " [3 4 4]]\n"
          ]
        }
      ],
      "source": [
        "arr=np.arange(1,10).reshape(3,3)\n",
        "print(arr+2)\n",
        "print(arr*2)\n",
        "print(arr//2)\n"
      ]
    },
    {
      "cell_type": "markdown",
      "id": "db8872cb",
      "metadata": {
        "id": "db8872cb"
      },
      "source": [
        "MATRIX MULTIPLICATION"
      ]
    },
    {
      "cell_type": "code",
      "execution_count": null,
      "id": "de76e5f6",
      "metadata": {
        "id": "de76e5f6",
        "outputId": "52ecc158-3876-4e66-a350-63ef84b06f2b"
      },
      "outputs": [
        {
          "name": "stdout",
          "output_type": "stream",
          "text": [
            "[[ 38  44  50  56]\n",
            " [ 83  98 113 128]\n",
            " [128 152 176 200]]\n"
          ]
        }
      ],
      "source": [
        "arr=np.arange(1,10).reshape(3,3)\n",
        "arr1=np.arange(1,13).reshape(3,4)\n",
        "#matrix multiplication\n",
        "print(arr.dot(arr1))"
      ]
    },
    {
      "cell_type": "code",
      "execution_count": null,
      "id": "22ad2ba8",
      "metadata": {
        "id": "22ad2ba8",
        "outputId": "a875acdc-7626-484e-ad3a-fab25a8cc538"
      },
      "outputs": [
        {
          "data": {
            "text/plain": [
              "np.float64(8.2)"
            ]
          },
          "execution_count": 58,
          "metadata": {},
          "output_type": "execute_result"
        }
      ],
      "source": [
        "arr=np.arange(1,10)\n",
        "np.percentile(arr,90)"
      ]
    },
    {
      "cell_type": "code",
      "execution_count": null,
      "id": "5df6fb03",
      "metadata": {
        "id": "5df6fb03",
        "outputId": "adc3f4a9-05f1-4eba-86e2-49e1eed9952d"
      },
      "outputs": [
        {
          "name": "stdout",
          "output_type": "stream",
          "text": [
            "5.0\n",
            "5.0\n",
            "6.666666666666667\n",
            "2.581988897471611\n"
          ]
        }
      ],
      "source": [
        "print(np.mean(arr))\n",
        "print(np.median(arr))\n",
        "print(np.var(arr))\n",
        "print(np.std(arr))\n",
        "\n",
        "\n"
      ]
    },
    {
      "cell_type": "markdown",
      "id": "b22361de",
      "metadata": {
        "id": "b22361de"
      },
      "source": [
        "filtering values"
      ]
    },
    {
      "cell_type": "code",
      "execution_count": null,
      "id": "4245f5f2",
      "metadata": {
        "id": "4245f5f2",
        "outputId": "f4240510-16f3-4060-d256-6bab9087ca9f"
      },
      "outputs": [
        {
          "name": "stdout",
          "output_type": "stream",
          "text": [
            "[False False False False False  True  True  True  True]\n",
            "[6 7 8 9]\n"
          ]
        }
      ],
      "source": [
        "arr=np.arange(1,10)\n",
        "print(arr>5)\n",
        "print(arr[arr>5])\n",
        "\n",
        "\n"
      ]
    },
    {
      "cell_type": "code",
      "execution_count": null,
      "id": "714009c2",
      "metadata": {
        "id": "714009c2",
        "outputId": "39ccb808-33ae-4825-fb6d-b2e5b02c26b5"
      },
      "outputs": [
        {
          "name": "stdout",
          "output_type": "stream",
          "text": [
            "[ 1  2  3  4  5 10 10 10 10]\n"
          ]
        }
      ],
      "source": [
        "arr[arr>5]=10\n",
        "print(arr)"
      ]
    },
    {
      "cell_type": "code",
      "execution_count": null,
      "id": "bd21c8f8",
      "metadata": {
        "id": "bd21c8f8",
        "outputId": "b74048a0-3b8f-4292-9f57-fb2969093c7c"
      },
      "outputs": [
        {
          "name": "stdout",
          "output_type": "stream",
          "text": [
            "[[2 4 6]\n",
            " [9 2 9]\n",
            " [8 9 2]]\n",
            "[[2 9 8]\n",
            " [4 2 9]\n",
            " [6 9 2]]\n"
          ]
        },
        {
          "data": {
            "text/plain": [
              "array([[2, 9, 8],\n",
              "       [4, 2, 9],\n",
              "       [6, 9, 2]], dtype=int32)"
            ]
          },
          "execution_count": 62,
          "metadata": {},
          "output_type": "execute_result"
        }
      ],
      "source": [
        "arr=np.random.randint(1,10,(3,3))\n",
        "print(arr)\n",
        "print(arr.T)\n",
        "np.transpose(arr)\n",
        "\n"
      ]
    },
    {
      "cell_type": "code",
      "execution_count": null,
      "id": "c1594a8c",
      "metadata": {
        "id": "c1594a8c",
        "outputId": "598b06c0-8551-4e50-902e-1d0a42c5f34b"
      },
      "outputs": [
        {
          "name": "stdout",
          "output_type": "stream",
          "text": [
            "[0 1 2 3 4 5 6 7 8 9]\n",
            "100\n",
            "[100   1 100   3 100   5 100   7 100   9]\n"
          ]
        }
      ],
      "source": [
        "arr=np.arange(0,10)\n",
        "print(arr)\n",
        "arr[arr%2==0]=100\n",
        "print(arr)"
      ]
    },
    {
      "cell_type": "code",
      "execution_count": null,
      "id": "c4f9fa04",
      "metadata": {
        "id": "c4f9fa04",
        "outputId": "b8f8b462-8de7-4209-956a-7238270e005f"
      },
      "outputs": [
        {
          "data": {
            "text/plain": [
              "array([100,   1, 100,   3, 100,   5, 100,   7, 100,   9])"
            ]
          },
          "execution_count": 64,
          "metadata": {},
          "output_type": "execute_result"
        }
      ],
      "source": [
        "np.where(arr%2==0,100,arr)"
      ]
    },
    {
      "cell_type": "code",
      "execution_count": null,
      "id": "a4a7840b",
      "metadata": {
        "id": "a4a7840b",
        "outputId": "2294ec60-76ae-4fb6-f3b2-dcc3cfc2fd2e"
      },
      "outputs": [
        {
          "data": {
            "text/plain": [
              "array(['even', 'odd', 'even', 'odd', 'even', 'odd', 'even', 'odd', 'even',\n",
              "       'odd'], dtype='<U21')"
            ]
          },
          "execution_count": 65,
          "metadata": {},
          "output_type": "execute_result"
        }
      ],
      "source": [
        "arr=np.arange(0,10)\n",
        "arr1=np.where(arr%2==0,\"even\",arr)\n",
        "arr1=np.where(arr%2!=0,\"odd\",arr1)\n",
        "arr1"
      ]
    },
    {
      "cell_type": "code",
      "execution_count": null,
      "id": "3d4639de",
      "metadata": {
        "id": "3d4639de",
        "outputId": "5245acba-0068-4c37-8709-22baecc2268c"
      },
      "outputs": [
        {
          "name": "stdout",
          "output_type": "stream",
          "text": [
            "[[9 4 9]\n",
            " [9 1 6]\n",
            " [4 6 8]]\n"
          ]
        },
        {
          "data": {
            "text/plain": [
              "array([[ 9,  4,  9],\n",
              "       [ 9,  1,  6],\n",
              "       [ 4,  6,  8],\n",
              "       [17, 11, 15],\n",
              "       [18, 19, 12],\n",
              "       [17, 13, 13]], dtype=int32)"
            ]
          },
          "execution_count": 66,
          "metadata": {},
          "output_type": "execute_result"
        }
      ],
      "source": [
        "np.random.seed(3)\n",
        "arr1=np.random.randint(1,10,(3,3))\n",
        "print(arr1)\n",
        "arr2=np.random.randint(11,20,(3,3))\n",
        "np.concatenate((arr1,arr2),axis=0)"
      ]
    },
    {
      "cell_type": "code",
      "execution_count": null,
      "id": "336e6635",
      "metadata": {
        "id": "336e6635",
        "outputId": "9d370046-0eea-4c91-9eba-ec970b6e8f02"
      },
      "outputs": [
        {
          "data": {
            "text/plain": [
              "array([[ 9,  4,  9, 17, 11, 15],\n",
              "       [ 9,  1,  6, 18, 19, 12],\n",
              "       [ 4,  6,  8, 17, 13, 13]], dtype=int32)"
            ]
          },
          "execution_count": 67,
          "metadata": {},
          "output_type": "execute_result"
        }
      ],
      "source": [
        "np.hstack((arr1,arr2))"
      ]
    },
    {
      "cell_type": "code",
      "execution_count": null,
      "id": "634f1c6a",
      "metadata": {
        "id": "634f1c6a",
        "outputId": "3ce0458d-ceb6-4d6f-bba5-af0e0e55c1bb"
      },
      "outputs": [
        {
          "data": {
            "text/plain": [
              "array([[ 9,  4,  9],\n",
              "       [ 9,  1,  6],\n",
              "       [ 4,  6,  8],\n",
              "       [17, 11, 15],\n",
              "       [18, 19, 12],\n",
              "       [17, 13, 13]], dtype=int32)"
            ]
          },
          "execution_count": 68,
          "metadata": {},
          "output_type": "execute_result"
        }
      ],
      "source": [
        "np.vstack((arr1,arr2))"
      ]
    },
    {
      "cell_type": "code",
      "execution_count": null,
      "id": "5cda69f7",
      "metadata": {
        "id": "5cda69f7"
      },
      "outputs": [],
      "source": []
    }
  ],
  "metadata": {
    "kernelspec": {
      "display_name": ".venv",
      "language": "python",
      "name": "python3"
    },
    "language_info": {
      "codemirror_mode": {
        "name": "ipython",
        "version": 3
      },
      "file_extension": ".py",
      "mimetype": "text/x-python",
      "name": "python",
      "nbconvert_exporter": "python",
      "pygments_lexer": "ipython3",
      "version": "3.13.0"
    },
    "colab": {
      "provenance": [],
      "include_colab_link": true
    }
  },
  "nbformat": 4,
  "nbformat_minor": 5
}